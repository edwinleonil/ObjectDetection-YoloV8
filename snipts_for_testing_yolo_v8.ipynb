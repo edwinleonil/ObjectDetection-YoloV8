{
 "cells": [
  {
   "cell_type": "code",
   "execution_count": 1,
   "metadata": {},
   "outputs": [
    {
     "name": "stderr",
     "output_type": "stream",
     "text": [
      "\n",
      "image 1/1 c:\\Users\\me1elar\\Documents\\GitHub\\YoloV8\\dataset\\images\\train\\Part 1_A00762157_Res_1_Normals Y.png: 640x640 1 Pinsite, 6.0ms\n",
      "Speed: 5.0ms preprocess, 6.0ms inference, 6.0ms postprocess per image at shape (1, 3, 640, 640)\n"
     ]
    }
   ],
   "source": [
    "# ============== IMPORTANT - USE YoloV8 environment ====================\n",
    "\n",
    "# ============== IMPORTANT - It may need Conda ====================\n",
    "\n",
    "from ultralytics import YOLO\n",
    "import os\n",
    "from PIL import ImageDraw, ImageFont, Image\n",
    "import numpy as np\n",
    "\n",
    "# Load a pretrained YOLO model (recommended for training)\n",
    "model = YOLO('models/best.pt')\n",
    "\n",
    "# specify the path to the folder containing the images\n",
    "folder_path = 'dataset/images/train'\n",
    "\n",
    "# get a list of all the files in the folder\n",
    "file_list = os.listdir(folder_path)\n",
    "\n",
    "image_index = 8\n",
    "\n",
    "# joint the folder path and the image name\n",
    "image_path = os.path.join(folder_path, file_list[image_index])\n",
    "\n",
    "# Run inference on a single image\n",
    "results = model(image_path)\n",
    "\n",
    "# get the label, confidence and xyxy from the results\n",
    "for r in results:\n",
    "    label = r.boxes.cls.cpu().numpy().astype(int)\n",
    "    conf = r.boxes.conf.cpu().numpy().astype(float)\n",
    "    xyxy = r.boxes.xyxy.cpu().numpy().astype(int)\n",
    "\n",
    "    # joint the label, confidence and xyxy into a single list of one dimension\n",
    "    label_conf_xyxy = np.concatenate((label.reshape(-1,1), conf.reshape(-1,1), xyxy), axis=1)\n",
    "\n",
    "# # get p1 and p2\n",
    "p1 = label_conf_xyxy[:,2:4]\n",
    "p2 = label_conf_xyxy[:,4:6]\n",
    "\n",
    "# convert p1 and p2 to a list of tuples adn keep them as integers\n",
    "p1 = [tuple(map(int, p)) for p in p1]\n",
    "p2 = [tuple(map(int, p)) for p in p2]\n",
    "\n",
    "# # show the image with the bounding boxes using the tuples p1 and p2\n",
    "img = Image.open(image_path)\n",
    "\n",
    "# convert the image to RGB\n",
    "img = img.convert('RGB')\n",
    "\n",
    "# draw the bounding boxes on the image and show the image\n",
    "for i in range(len(p1)):\n",
    "    draw = ImageDraw.Draw(img)\n",
    "    draw.rectangle((p1[i], p2[i]), outline='red', width=3)\n",
    "img.show()\n",
    "\n"
   ]
  },
  {
   "cell_type": "code",
   "execution_count": 2,
   "metadata": {},
   "outputs": [
    {
     "name": "stdout",
     "output_type": "stream",
     "text": [
      "{'path': 'C:\\\\Users\\\\me1elar\\\\Documents\\\\GitHub\\\\YoloV8\\\\dataset', 'train': 'images/train', 'val': 'images/val', 'test': None, 'names': {0: 'Pinsite'}}\n"
     ]
    }
   ],
   "source": [
    "# aupdate yolov8.yaml file\n",
    "\n",
    "import yaml\n",
    "\n",
    "with open('yolov8.yaml') as f:\n",
    "    data = yaml.load(f, Loader=yaml.FullLoader)\n",
    "    print(data)\n",
    "# update the names parameter\n",
    "data['names'][1] = 'person'\n",
    "data['names'][2] = 'bicycle'\n",
    "\n",
    "# save the updated yaml file\n",
    "with open('yolov8.yaml', 'w') as f:\n",
    "    yaml.dump(data, f)\n",
    "\n",
    "\n",
    "                 \n"
   ]
  },
  {
   "cell_type": "code",
   "execution_count": 1,
   "metadata": {},
   "outputs": [
    {
     "name": "stderr",
     "output_type": "stream",
     "text": [
      "\n",
      "image 1/1 c:\\Users\\me1elar\\Documents\\GitHub\\YoloV8\\static\\images\\Part 1_A00759575_Res_3_Normals X.png: 640x640 2 Pinsites, 19.8ms\n",
      "Speed: 0.0ms preprocess, 19.8ms inference, 6.0ms postprocess per image at shape (1, 3, 640, 640)\n"
     ]
    }
   ],
   "source": [
    "from PIL import Image\n",
    "from ultralytics import YOLO\n",
    "\n",
    "# Load a pretrained YOLOv8n model\n",
    "model = YOLO('runs/detect/train/weights/best.pt')\n",
    "\n",
    "# joint the folder path and the image name\n",
    "image_path = 'test_image.png'\n",
    "\n",
    "# Run inference on a single image\n",
    "results = model(image_path)\n",
    "\n",
    "# Show the results\n",
    "for r in results:\n",
    "    im_array = r.plot()  # plot a BGR numpy array of predictions\n",
    "    im = Image.fromarray(im_array[..., ::-1])  # RGB PIL image\n",
    "    im.show()  # show image\n"
   ]
  },
  {
   "cell_type": "code",
   "execution_count": 1,
   "metadata": {},
   "outputs": [
    {
     "name": "stderr",
     "output_type": "stream",
     "text": [
      "\n",
      "image 1/1 c:\\Users\\me1elar\\Documents\\GitHub\\AI-23-19-AVI-DefectDetectionWithYoloV8\\dataset\\images\\val\\Part 1_A00758766_Res_1_Normals X.png: 640x640 1 Scale, 6.0ms\n",
      "Speed: 5.0ms preprocess, 6.0ms inference, 6.0ms postprocess per image at shape (1, 3, 640, 640)\n"
     ]
    },
    {
     "name": "stdout",
     "output_type": "stream",
     "text": [
      "<class 'numpy.ndarray'>\n"
     ]
    }
   ],
   "source": [
    "from ultralytics import YOLO\n",
    "import os\n",
    "from PIL import Image\n",
    "import numpy as np\n",
    "import cv2\n",
    "\n",
    "# Load a pretrained YOLO model (recommended for training)\n",
    "model = YOLO('runs/detect/train3/weights/best.pt')\n",
    "\n",
    "# specify the path to the folder containing the test images\n",
    "folder_path = 'dataset/images/val'\n",
    "\n",
    "# get a list of all the files in the folder\n",
    "file_list = os.listdir(folder_path)\n",
    "\n",
    "image = file_list[2]\n",
    "\n",
    "# Run inference on a single image\n",
    "results = model.predict('dataset/images/val/'+image, save=False, show=False)\n",
    "\n",
    "# Show the results\n",
    "for r in results:\n",
    "    im_array = r.plot()  # plot a BGR numpy array of predictions\n",
    "    # type of im_array\n",
    "    print(type(im_array))\n",
    "    im = Image.fromarray(im_array[..., ::-1])  # RGB PIL image\n",
    "    # convert the PIL image to a numpy array\n",
    "    im_array = np.array(im)\n",
    "    # show image with openCV\n",
    "    cv2.imshow('image', im_array)\n",
    "    cv2.waitKey(0)\n"
   ]
  },
  {
   "cell_type": "code",
   "execution_count": 2,
   "metadata": {},
   "outputs": [
    {
     "name": "stdout",
     "output_type": "stream",
     "text": [
      "['MachineScar', 'Rx', 'Scale', 'Sliver']\n"
     ]
    }
   ],
   "source": [
    "import os\n",
    "folder_path = r\"C:data\\test\"\n",
    "# get the list of subfolders in the folder\n",
    "subfolders = os.listdir(folder_path)\n",
    "\n",
    "print(subfolders)\n"
   ]
  },
  {
   "cell_type": "markdown",
   "metadata": {},
   "source": [
    "Apply image equalization to the input image."
   ]
  },
  {
   "cell_type": "code",
   "execution_count": 5,
   "metadata": {},
   "outputs": [],
   "source": [
    "import matplotlib.pyplot as plt\n",
    "from skimage import data, exposure, img_as_float, io, color, img_as_ubyte\n",
    "import os\n",
    "\n",
    "# get the path of files inside the folder data/Pinsite\n",
    "path = 'dataset/images/val'\n",
    "files = os.listdir(path)\n",
    "\n",
    "# iterate through the files and apply the histogram equalization\n",
    "for file in files:\n",
    "    img = io.imread(os.path.join(path, file))\n",
    "    # print(img.shape)\n",
    "    img_eq = exposure.equalize_adapthist(img_as_float(img))\n",
    "    # Convert the image to RGB mode\n",
    "    img_rgb = color.gray2rgb(img_eq)\n",
    "    # convert to uint8\n",
    "    img_rgb = img_as_ubyte(img_rgb)\n",
    "    # save the image\n",
    "    io.imsave('dataset/images/val_equalized/' + file, img_rgb)\n",
    "   "
   ]
  },
  {
   "cell_type": "markdown",
   "metadata": {},
   "source": [
    "Replace the label zero to one for the previous pinsite label images"
   ]
  },
  {
   "cell_type": "code",
   "execution_count": 9,
   "metadata": {},
   "outputs": [],
   "source": [
    "# Current txt files contain dat as follows:\n",
    "# 0 0.6109375 0.08984375 0.05625 0.0734375\n",
    "# 0 0.60859375 0.6328125 0.0546875 0.06875\n",
    "\n",
    "# where the first column is the class. This values needs to be change to be 1\n",
    "# the files are located in the folder dataset\\labels_old\\train\n",
    "\n",
    "import os\n",
    "\n",
    "# Set the directory path\n",
    "dir_path = r'dataset\\labels_old\\train_temp'\n",
    "\n",
    "# Loop through each file in the directory\n",
    "for filename in os.listdir(dir_path):\n",
    "    if filename.endswith('.txt'):\n",
    "        # Open the file in read mode\n",
    "        with open(os.path.join(dir_path, filename), 'r') as file:\n",
    "            lines = file.readlines()\n",
    "\n",
    "        # Loop through each line in the file\n",
    "        for i in range(len(lines)):\n",
    "            # Split the line into a list of strings\n",
    "            line = lines[i].split()\n",
    "            # Change the first element of the list from '0' to '1'\n",
    "            line[0] = '1'\n",
    "            # Join the list back into a string keeping the number of rows the same\n",
    "            lines[i] = ' '.join(line) + '\\n'            \n",
    "\n",
    "        # Write the modified lines back to the file\n",
    "        with open(os.path.join(dir_path, filename), 'w') as file:\n",
    "            file.writelines(lines)"
   ]
  },
  {
   "cell_type": "markdown",
   "metadata": {},
   "source": [
    "Visualize the 640x640 image with its corresponding normalized bounding boxes and labels"
   ]
  },
  {
   "cell_type": "code",
   "execution_count": 5,
   "metadata": {},
   "outputs": [],
   "source": [
    "import os\n",
    "import cv2\n",
    "\n",
    "# Specify the path to the folder containing the images\n",
    "image_folder_path = 'dataset/images/train'\n",
    "\n",
    "# Specify the path to the folder containing the txt files\n",
    "txt_folder_path = 'dataset/labels/train'\n",
    "\n",
    "# Get a list of all the txt files in the folder\n",
    "txt_files = [file for file in os.listdir(txt_folder_path) if file.endswith('.txt')]\n",
    "\n",
    "# Initialize a counter\n",
    "counter = 0\n",
    "\n",
    "# Define a dictionary that maps label integers to their corresponding names\n",
    "label_names = {0: 'A', 1: 'B', 2: 'C', 3: 'D', 4: 'E', 5: 'D'}\n",
    "\n",
    "# Loop through each txt file\n",
    "for txt_file in txt_files:\n",
    "    # Increment the counter\n",
    "    counter += 1\n",
    "\n",
    "    # If the counter is greater than 5, break the loop\n",
    "    if counter > 5:\n",
    "        break\n",
    "\n",
    "    # Get the corresponding image file name\n",
    "    image_file_name = os.path.splitext(txt_file)[0] + '.png'\n",
    "    \n",
    "    # Join the image folder path and the image file name\n",
    "    image_path = os.path.join(image_folder_path, image_file_name)\n",
    "    \n",
    "    # Read the image using OpenCV\n",
    "    image = cv2.imread(image_path)\n",
    "    \n",
    "    # Get the path to the txt file\n",
    "    txt_file_path = os.path.join(txt_folder_path, txt_file)\n",
    "    \n",
    "    # Open the txt file in read mode\n",
    "    with open(txt_file_path, 'r') as file:\n",
    "        lines = file.readlines()\n",
    "    \n",
    "    # Loop through each line in the txt file\n",
    "    for line in lines:\n",
    "        # Split the line into a list of values\n",
    "        values = line.split()\n",
    "        \n",
    "        # Extract the label\n",
    "        label = int(values[0])\n",
    "        \n",
    "        # Get the label name from the dictionary\n",
    "        label_name = label_names[label]\n",
    "        \n",
    "        # Extract the bounding box coordinates\n",
    "        x, y, width, height = map(float, values[1:])\n",
    "        \n",
    "        # Calculate the top-left and bottom-right coordinates of the bounding box\n",
    "        x1 = int((x - width / 2) * image.shape[1])\n",
    "        y1 = int((y - height / 2) * image.shape[0])\n",
    "        x2 = int((x + width / 2) * image.shape[1])\n",
    "        y2 = int((y + height / 2) * image.shape[0])\n",
    "        \n",
    "        # Draw the bounding box on the image\n",
    "        cv2.rectangle(image, (x1, y1), (x2, y2), (0, 255, 0), 2)\n",
    "        \n",
    "        # Draw the label name on the image\n",
    "        cv2.putText(image, label_name, (x1, y1 - 10), cv2.FONT_HERSHEY_SIMPLEX, 0.9, (36,255,12), 2)\n",
    "    \n",
    "    # Display the image with the bounding boxes\n",
    "    cv2.imshow('Image with Bounding Boxes', image)\n",
    "    cv2.waitKey(0)\n",
    "    cv2.destroyAllWindows()"
   ]
  },
  {
   "cell_type": "code",
   "execution_count": 4,
   "metadata": {},
   "outputs": [
    {
     "name": "stderr",
     "output_type": "stream",
     "text": [
      "C:\\Users\\me1elar\\AppData\\Local\\Temp\\ipykernel_21428\\3151676210.py:3: DeprecationWarning: `magic(...)` is deprecated since IPython 0.13 (warning added in 8.1), use run_line_magic(magic_name, parameter_s).\n",
      "  get_ipython().magic('reset -sf')\n"
     ]
    }
   ],
   "source": [
    "# clear all variables  outputs in the jupyter notebook\n",
    "from IPython import get_ipython\n",
    "get_ipython().magic('reset -sf')\n",
    "\n"
   ]
  }
 ],
 "metadata": {
  "kernelspec": {
   "display_name": "YoloV8",
   "language": "python",
   "name": "python3"
  },
  "language_info": {
   "codemirror_mode": {
    "name": "ipython",
    "version": 3
   },
   "file_extension": ".py",
   "mimetype": "text/x-python",
   "name": "python",
   "nbconvert_exporter": "python",
   "pygments_lexer": "ipython3",
   "version": "3.9.17"
  },
  "orig_nbformat": 4
 },
 "nbformat": 4,
 "nbformat_minor": 2
}
